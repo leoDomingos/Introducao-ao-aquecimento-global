{
 "cells": [
  {
   "cell_type": "markdown",
   "metadata": {},
   "source": [
    "# Aquecimento global no século 21\n",
    "\n",
    "(MELHORAR DEPOIS)\n",
    "\n",
    "O aquecimento global é provavelmente o maior desafio que a humanidade já teve que enfrentar. Sub-produto da busca humana por desenvolvimento, ele ameaça todas as formas de vida presentes no planeta.\n",
    "Desde o advento da Revolução Industrial em 1760, pesquisadores já desconfiavam que o CO2 emitido pelas cada vez mais numerosas máquinas a carvão iria aquecer o planeta em alguns séculos (FONTE). Agora, um estudo realizado em 2020 revela que até um terço de toda fauna e flora global podem ser extintas até 2070.\n",
    "\n",
    "Tendo isso em mente, neste notebook iremos tentar analisar o que as diferentes potências do mundo estão fazendo para tentar evitar, ou pelo menos desacelerar, o aquecimento global. Veremos também as alternativas possíveis para os combustíveis fósseis, principais contribuintes para a emissão anual de gases de efeito estufa, junto com uma análise socioeconômica que revelará o que cada país consegue fazer."
   ]
  },
  {
   "cell_type": "code",
   "execution_count": 47,
   "metadata": {},
   "outputs": [],
   "source": [
    "# imports padrões\n",
    "import numpy as np\n",
    "import matplotlib.pyplot as plt\n",
    "import matplotlib.dates as pld\n",
    "import pandas as pd\n",
    "import seaborn as sns"
   ]
  },
  {
   "cell_type": "markdown",
   "metadata": {},
   "source": [
    "### Introdução à metodologia\n",
    "\n",
    "Vamos primeiro demonstrar como usaremos os dados obtidos."
   ]
  },
  {
   "cell_type": "markdown",
   "metadata": {},
   "source": [
    "Antes de tudo, precisamos definir que países vão ser analisados. Não queremos analisar todos, já que a visualização dos dados seria comprometida.\n",
    "\n",
    "Observe que não colocaremos todos os países considerados como potências econômicas. Contudo, os países da lista a seguir já nos darão uma boa ideia do cenário atual."
   ]
  },
  {
   "cell_type": "code",
   "execution_count": 48,
   "metadata": {},
   "outputs": [],
   "source": [
    "potencias = [\"United States\", \"United Kingdom\", \"France\", \"Germany\", \"China\", \"India\", \"Brazil\"]"
   ]
  },
  {
   "cell_type": "markdown",
   "metadata": {},
   "source": [
    "Perceba que também colocamos o Brasil na lista, para nos compararmos com os outros.\n",
    "\n",
    "O resto do notebook se baseará nesta lista; Caso queira ver algum conjunto de países diferente basta mudá-la e rodar o o notebook de novo."
   ]
  },
  {
   "cell_type": "markdown",
   "metadata": {},
   "source": [
    "Agora, vamos mostrar um exemplo de como faremos um gráfico com os dados que temos.\n",
    "\n",
    "Como exemplo, vamos ver a população de cada um dos países da lista no período 1990-1999."
   ]
  },
  {
   "cell_type": "code",
   "execution_count": 49,
   "metadata": {},
   "outputs": [
    {
     "name": "stdout",
     "output_type": "stream",
     "text": [
      "172319008.0\n",
      "1281515008.0\n",
      "58704000.0\n",
      "81390000.0\n",
      "1038057984.0\n",
      "58716000.0\n",
      "278548000.0\n"
     ]
    }
   ],
   "source": [
    "# Primeiro, vamos mostrar como iterar sobre as listas e colunas\n",
    "\n",
    "data = pd.read_csv(\"./data./World Energy Consumption.csv\")\n",
    "population_data = pd.DataFrame()\n",
    "for index,row in data.iterrows():\n",
    "    if row.country in potencias and row.year == 1999:\n",
    "        print(row.population)"
   ]
  },
  {
   "cell_type": "markdown",
   "metadata": {},
   "source": [
    "Caso mude a lista de potências, verifique se o número de output corresponde ao número de países listados, para verificar que digitou corretamente."
   ]
  },
  {
   "cell_type": "markdown",
   "metadata": {},
   "source": [
    "Agora que conseguimos esses dados, vamos montar o gráfico que cobre o período de 1990-1999."
   ]
  },
  {
   "cell_type": "code",
   "execution_count": 50,
   "metadata": {},
   "outputs": [
    {
     "data": {
      "image/png": "[encoded data removed]",
      "text/plain": [
       "<Figure size 432x288 with 1 Axes>"
      ]
     },
     "metadata": {
      "needs_background": "light"
     },
     "output_type": "display_data"
    }
   ],
   "source": [
    "# Criando o dicionário que vai segurar os dados de cada país\n",
    "dict_resultado = {}\n",
    "\n",
    "# Primeiro vamos popular o dicionário com as keys dos países desejados\n",
    "for country in potencias:\n",
    "    dict_resultado[country] = []\n",
    "\n",
    "# Colocando os dados no dicionário\n",
    "for index, row in data.iterrows():\n",
    "    # print(row.country)\n",
    "    if row.country in potencias and row.year in range(1990, 2000):\n",
    "        dict_resultado[row.country].append(row.population)\n",
    "\n",
    "# Fazendo o gráfico com o dicionário\n",
    "\n",
    "for country, population in dict_resultado.items():\n",
    "    plt.plot(range(1990, 2000), population)"
   ]
  },
  {
   "cell_type": "markdown",
   "metadata": {},
   "source": [
    "Observe que a maioria dos países da lista se mantiveram no mesmo nível. Os 2 únicos com crescimento perceptível são a China e a Índia."
   ]
  },
  {
   "cell_type": "markdown",
   "metadata": {},
   "source": [
    "Agora que demonstramos o worflow geral que será feito para analisar os dados, estamos prontos para começar o estudo."
   ]
  },
  {
   "cell_type": "markdown",
   "metadata": {},
   "source": [
    "## Necessidade histórica de CO2"
   ]
  },
  {
   "cell_type": "markdown",
   "metadata": {},
   "source": []
  }
 ],
 "metadata": {
  "kernelspec": {
   "display_name": "Python 3.9.10 ('env')",
   "language": "python",
   "name": "python3"
  },
  "language_info": {
   "codemirror_mode": {
    "name": "ipython",
    "version": 3
   },
   "file_extension": ".py",
   "mimetype": "text/x-python",
   "name": "python",
   "nbconvert_exporter": "python",
   "pygments_lexer": "ipython3",
   "version": "3.9.10"
  },
  "orig_nbformat": 4,
  "vscode": {
   "interpreter": {
    "hash": "a126beb91bab5438abc6d82d1e757983666d3df170eb305b3c70ad30dbdbbfe9"
   }
  }
 },
 "nbformat": 4,
 "nbformat_minor": 2
}
