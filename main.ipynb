{
 "cells": [
  {
   "cell_type": "markdown",
   "metadata": {},
   "source": [
    "# Aquecimento global no século 21\n",
    "\n",
    "(MELHORAR DEPOIS)\n",
    "\n",
    "O aquecimento global é provavelmente o maior desafio que a humanidade já teve que enfrentar. Sub-produto da busca humana por desenvolvimento, ele ameaça todas as formas de vida presentes no planeta.\n",
    "Desde o advento da Revolução Industrial em 1760, pesquisadores já desconfiavam que o CO2 emitido pelas cada vez mais numerosas máquinas a carvão iria aquecer o planeta em alguns séculos (FONTE). Agora, um estudo realizado em 2020 revela que até um terço de toda fauna e flora global podem ser extintas até 2070.\n",
    "\n",
    "Tendo isso em mente, neste notebook iremos tentar analisar o que as diferentes potências do mundo estão fazendo para tentar evitar, ou pelo menos desacelerar, o aquecimento global. Veremos também as alternativas possíveis para os combustíveis fósseis, principais contribuintes para a emissão anual de gases de efeito estufa, junto com uma análise socioeconômica que revelará o que cada país consegue fazer."
   ]
  },
  {
   "cell_type": "code",
   "execution_count": 2,
   "metadata": {},
   "outputs": [
    {
     "name": "stderr",
     "output_type": "stream",
     "text": [
      "\n",
      "Bad key \"text.kerning_factor\" on line 4 in\n",
      "c:\\Users\\Leonardo\\miniconda3\\envs\\env\\lib\\site-packages\\matplotlib\\mpl-data\\stylelib\\_classic_test_patch.mplstyle.\n",
      "You probably need to get an updated matplotlibrc file from\n",
      "https://github.com/matplotlib/matplotlib/blob/v3.1.2/matplotlibrc.template\n",
      "or from the matplotlib source distribution\n"
     ]
    }
   ],
   "source": [
    "# imports padrões\n",
    "import numpy as np\n",
    "import matplotlib.pyplot as plt\n",
    "import matplotlib.dates as pld\n",
    "import pandas as pd\n",
    "import seaborn as sns"
   ]
  },
  {
   "cell_type": "markdown",
   "metadata": {},
   "source": [
    "### Introdução à metodologia\n",
    "\n",
    "Vamos primeiro demonstrar como usaremos os dados obtidos."
   ]
  },
  {
   "cell_type": "markdown",
   "metadata": {},
   "source": [
    "Antes de tudo, precisamos definir que países vão ser analisados. Não queremos analisar todos, já que a visualização dos dados seria comprometida.\n",
    "\n",
    "Observe que não colocaremos todos os países considerados como potências econômicas. Contudo, os países da lista a seguir já nos darão uma boa ideia do cenário atual."
   ]
  },
  {
   "cell_type": "code",
   "execution_count": 3,
   "metadata": {},
   "outputs": [],
   "source": [
    "potencias = [\"United States\", \"United Kingdom\", \"France\", \"Germany\", \"China\", \"India\", \"Brazil\"]"
   ]
  },
  {
   "cell_type": "markdown",
   "metadata": {},
   "source": [
    "Perceba que também colocamos o Brasil na lista, para nos compararmos com os outros.\n",
    "\n",
    "O resto do notebook se baseará nesta lista; Caso queira ver algum conjunto de países diferente basta mudá-la e rodar o o notebook de novo."
   ]
  },
  {
   "cell_type": "markdown",
   "metadata": {},
   "source": [
    "Agora, vamos mostrar um exemplo de como faremos um gráfico com os dados que temos.\n",
    "\n",
    "Como exemplo, vamos ver a população de cada um dos países da lista no período 1990-1999."
   ]
  },
  {
   "cell_type": "code",
   "execution_count": 4,
   "metadata": {},
   "outputs": [
    {
     "name": "stdout",
     "output_type": "stream",
     "text": [
      "172319008.0\n",
      "1281515008.0\n",
      "58704000.0\n",
      "81390000.0\n",
      "1038057984.0\n",
      "58716000.0\n",
      "278548000.0\n"
     ]
    }
   ],
   "source": [
    "# Primeiro, vamos mostrar como iterar sobre as listas e colunas\n",
    "\n",
    "data = pd.read_csv(\"./data./World Energy Consumption.csv\")\n",
    "for index,row in data.iterrows():\n",
    "    if row.country in potencias and row.year == 1999:\n",
    "        print(row.population)"
   ]
  },
  {
   "cell_type": "markdown",
   "metadata": {},
   "source": [
    "Caso mude a lista de potências, verifique se o número de output corresponde ao número de países listados, para verificar que digitou corretamente."
   ]
  },
  {
   "cell_type": "markdown",
   "metadata": {},
   "source": [
    "Agora que conseguimos esses dados, vamos montar o gráfico que cobre o período de 1990-1999."
   ]
  },
  {
   "cell_type": "code",
   "execution_count": 26,
   "metadata": {},
   "outputs": [
    {
     "data": {
      "image/png": "[encoded data removed]",
      "text/plain": [
       "<Figure size 432x288 with 1 Axes>"
      ]
     },
     "metadata": {
      "needs_background": "light"
     },
     "output_type": "display_data"
    }
   ],
   "source": [
    "# Criando o dicionário que vai segurar os dados de cada país\n",
    "dict_resultado = {}\n",
    "\n",
    "# Primeiro vamos popular o dicionário com as keys dos países desejados\n",
    "for country in potencias:\n",
    "    dict_resultado[country] = []\n",
    "\n",
    "# Colocando os dados no dicionário\n",
    "for index, row in data.iterrows():\n",
    "    # print(row.country)\n",
    "    if row.country in potencias and row.year in range(1990, 2000): # Explicado em baixo\n",
    "        dict_resultado[row.country].append(row.population)\n",
    "\n",
    "# Fazendo o gráfico com o dicionário\n",
    "\n",
    "for country, population in dict_resultado.items():\n",
    "    plt.plot(range(1990, 2000), population, label=country)\n",
    "    plt.legend(loc=\"upper left\")"
   ]
  },
  {
   "cell_type": "markdown",
   "metadata": {},
   "source": [
    "OBS: Quando vamos botar os dados nas listas, não nos preocupamos com organizá-los cronologicamente. A princípio, isso seria uma prática ruim, visto que seria muito fácil ficarmos com dados na seguinte estrutura:\n",
    "\n",
    "`[(dados de 2000), (dados de 2002), (dados de 2005), (dados de 2001), (dados de 2003)]`\n",
    "\n",
    "Contudo, esse csv foi organizado previamente de forma cronológica, então não precisamos nos preocupar com isso, visto que o nosso loop vê as linhas de cima para baixo, da mesma forma que elas foram organizadas. Dessa forma, podemos usar o método com range(), que nos permite iterar sobre o csv de forma mais rápida."
   ]
  },
  {
   "cell_type": "markdown",
   "metadata": {},
   "source": [
    "Observe que a maioria dos países da lista se mantiveram no mesmo nível. Os 2 únicos com crescimento perceptível são a China e a Índia."
   ]
  },
  {
   "cell_type": "markdown",
   "metadata": {},
   "source": [
    "Agora que demonstramos o worflow geral que será feito para analisar os dados, estamos prontos para começar o estudo."
   ]
  },
  {
   "cell_type": "markdown",
   "metadata": {},
   "source": [
    "## De quem é a culpa?\n",
    "\n",
    "Analisaremos quem é o culpado por toda essa confusão de aquecimento global."
   ]
  },
  {
   "cell_type": "markdown",
   "metadata": {},
   "source": [
    "Neste capítulo, estudaremos os seguintes aspectos:\n",
    "\n",
    "* CO2 anual, recente\n",
    "* CO2 anual, histórica\n",
    "* Aumento da demanda por energia"
   ]
  },
  {
   "cell_type": "markdown",
   "metadata": {},
   "source": [
    "### CO2 anual, recente"
   ]
  },
  {
   "cell_type": "markdown",
   "metadata": {},
   "source": [
    "Começaremos analisando o quanto cada um dos países listados ejetou CO2 na atmosfera, nos últimos X anos."
   ]
  },
  {
   "cell_type": "code",
   "execution_count": 24,
   "metadata": {},
   "outputs": [],
   "source": [
    "data = pd.read_csv(\"./data./World Energy Consumption.csv\")\n",
    "\n",
    "# Criando o dicionário\n",
    "dict_co2_depend = {}\n",
    "for pais in potencias:\n",
    "    dict_co2_depend[pais] = []\n",
    "\n",
    "\n",
    "# Populando o dicionário\n",
    "ano_inicial = 1980\n",
    "ano_final = 2020\n",
    "for pais in potencias:\n",
    "    for index,row in data.iterrows():\n",
    "        if row.country == pais:\n",
    "            if row.year in range(ano_inicial, ano_final): # OBS: Isso é seguro de se fazer nesse csv, pois os dados estão organizados cronologicamente. (Explicado na seção Tratamento de Dados)\n",
    "                if type(row.fossil_fuel_consumption == int):\n",
    "                    dict_co2_depend[row.country].append(row.fossil_fuel_consumption)\n",
    "                else: # Se não tem dados sobre esse ano, então colocamos a média do país até então\n",
    "                    dict_co2_depend[row.country].append(np.average(dict_co2_depend[row.country]))\n",
    "        "
   ]
  },
  {
   "cell_type": "code",
   "execution_count": 28,
   "metadata": {},
   "outputs": [
    {
     "data": {
      "image/png": "[encoded data removed]",
      "text/plain": [
       "<Figure size 432x288 with 1 Axes>"
      ]
     },
     "metadata": {
      "needs_background": "light"
     },
     "output_type": "display_data"
    }
   ],
   "source": [
    "# Agora que temos os dados, vamos fazer um gráfico com eles\n",
    "for pais, uso in dict_co2_depend.items():\n",
    "    plt.plot(range(ano_inicial, ano_final), uso, label = pais)\n",
    "    plt.legend(loc=\"upper left\")"
   ]
  },
  {
   "cell_type": "markdown",
   "metadata": {},
   "source": [
    "Com o gráfico acima, podemos ver que, dos países selecionados, a China e os EUA são de longe os que mais dependem de combustíveis fósseis. Podemos ver também que a Índia tem a segunda maior taxa de crescimento.\n",
    "\n",
    "Ao olhar para esse gráfico, podemos rapidamente chegar na conclusão que, para parar o aquecimento global, esses dois ou três países devem parar de consumir tanto combustível fóssil imediatamente. Porém, países em desenvolvimento, como a China e Índia, afirmam ser injusto terem que parar de usar essa fonte de energia barata, visto que os países que atualmente são potências já expeliram sua quantidade de CO2 para chegar nesse patamar no passado, e agora podem arcar com os custos de tecnologias renováveis."
   ]
  },
  {
   "cell_type": "markdown",
   "metadata": {},
   "source": []
  }
 ],
 "metadata": {
  "kernelspec": {
   "display_name": "Python 3.9.10 ('env')",
   "language": "python",
   "name": "python3"
  },
  "language_info": {
   "codemirror_mode": {
    "name": "ipython",
    "version": 3
   },
   "file_extension": ".py",
   "mimetype": "text/x-python",
   "name": "python",
   "nbconvert_exporter": "python",
   "pygments_lexer": "ipython3",
   "version": "3.9.10"
  },
  "orig_nbformat": 4,
  "vscode": {
   "interpreter": {
    "hash": "a126beb91bab5438abc6d82d1e757983666d3df170eb305b3c70ad30dbdbbfe9"
   }
  }
 },
 "nbformat": 4,
 "nbformat_minor": 2
}
