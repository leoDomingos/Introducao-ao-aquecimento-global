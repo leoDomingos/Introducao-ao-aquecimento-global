{
 "cells": [
  {
   "cell_type": "markdown",
   "metadata": {},
   "source": [
    "# Análise da matriz energética global\n",
    "\n",
    "Ideias:\n",
    "\n",
    "* começar falando sobre a importancia do aquecimento global\n",
    "* Falar sobre como estamos agora\n",
    "* discutir o lado historico da coisa\n",
    "* associar quais paises produzem mais com seus porques\n",
    "* (adendo) dizer que matriz energetica nao é a unica coisa importante para o AG (olhar para o brasil)\n",
    "* Discutir possíveis soluções"
   ]
  }
 ],
 "metadata": {
  "language_info": {
   "name": "python"
  },
  "orig_nbformat": 4
 },
 "nbformat": 4,
 "nbformat_minor": 2
}
